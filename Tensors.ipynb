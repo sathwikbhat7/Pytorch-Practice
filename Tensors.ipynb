{
  "nbformat": 4,
  "nbformat_minor": 0,
  "metadata": {
    "colab": {
      "provenance": [],
      "gpuType": "T4",
      "authorship_tag": "ABX9TyO8XaFBwiXcZGaLQZPJqxpG",
      "include_colab_link": true
    },
    "kernelspec": {
      "name": "python3",
      "display_name": "Python 3"
    },
    "language_info": {
      "name": "python"
    },
    "accelerator": "GPU"
  },
  "cells": [
    {
      "cell_type": "markdown",
      "metadata": {
        "id": "view-in-github",
        "colab_type": "text"
      },
      "source": [
        "<a href=\"https://colab.research.google.com/github/sathwikbhat7/Pytorch-Practice/blob/main/Tensors.ipynb\" target=\"_parent\"><img src=\"https://colab.research.google.com/assets/colab-badge.svg\" alt=\"Open In Colab\"/></a>"
      ]
    },
    {
      "cell_type": "markdown",
      "source": [
        "**TENSORS**\n",
        "\n",
        "A torch.Tensor is a multi-dimensional matrix containing elements of a single data type.\n",
        "\n",
        "Similar To Numpy Arrays, but full of fun things that make them work better on GPU's (vs regular CPU's).\n",
        "\n",
        "default data type of float32.\n",
        "\n",
        "More suitable for deep learning than a numpy array."
      ],
      "metadata": {
        "id": "FeAYYf7c61X5"
      }
    },
    {
      "cell_type": "markdown",
      "source": [],
      "metadata": {
        "id": "fqOinkX06nwp"
      }
    },
    {
      "cell_type": "code",
      "execution_count": 1,
      "metadata": {
        "id": "kdNyY3793_J8"
      },
      "outputs": [],
      "source": [
        "import torch\n",
        "import numpy as np"
      ]
    },
    {
      "cell_type": "markdown",
      "source": [
        "**LISTS**"
      ],
      "metadata": {
        "id": "iPT0kSrR7DGJ"
      }
    },
    {
      "cell_type": "code",
      "source": [
        "my_list = [[1,2,3,4,5], [6,7,8,9,10]]\n",
        "my_list\n"
      ],
      "metadata": {
        "colab": {
          "base_uri": "https://localhost:8080/"
        },
        "id": "u8MUyiNz6hA-",
        "outputId": "44eaffcf-a13a-4d2c-f320-85695088a933"
      },
      "execution_count": 3,
      "outputs": [
        {
          "output_type": "execute_result",
          "data": {
            "text/plain": [
              "[[1, 2, 3, 4, 5], [6, 7, 8, 9, 10]]"
            ]
          },
          "metadata": {},
          "execution_count": 3
        }
      ]
    },
    {
      "cell_type": "markdown",
      "source": [
        "**NUMPY ARRAYS**\n"
      ],
      "metadata": {
        "id": "l0K9VDV97SnB"
      }
    },
    {
      "cell_type": "code",
      "source": [
        "np1 = np.random.rand(3,4)\n",
        "np1"
      ],
      "metadata": {
        "colab": {
          "base_uri": "https://localhost:8080/"
        },
        "id": "1B_jS3-b7LWn",
        "outputId": "16ec141f-3239-4412-c86a-fae31dadd483"
      },
      "execution_count": 4,
      "outputs": [
        {
          "output_type": "execute_result",
          "data": {
            "text/plain": [
              "array([[0.84879293, 0.48032034, 0.57812993, 0.67853018],\n",
              "       [0.63963414, 0.59501834, 0.85499822, 0.46164775],\n",
              "       [0.5460343 , 0.02590531, 0.64325693, 0.29479075]])"
            ]
          },
          "metadata": {},
          "execution_count": 4
        }
      ]
    },
    {
      "cell_type": "code",
      "source": [
        "np1.dtype"
      ],
      "metadata": {
        "colab": {
          "base_uri": "https://localhost:8080/"
        },
        "id": "dUjx0YNa7goU",
        "outputId": "dbdc534d-a51d-466e-9228-37e305c0b2d8"
      },
      "execution_count": 5,
      "outputs": [
        {
          "output_type": "execute_result",
          "data": {
            "text/plain": [
              "dtype('float64')"
            ]
          },
          "metadata": {},
          "execution_count": 5
        }
      ]
    },
    {
      "cell_type": "markdown",
      "source": [
        "**TENSORS**"
      ],
      "metadata": {
        "id": "phwFjaxm7sEj"
      }
    },
    {
      "cell_type": "code",
      "source": [
        "tensor_2d = torch.randn(3,4)\n",
        "tensor_2d\n",
        "#tensor_2d.dtype"
      ],
      "metadata": {
        "colab": {
          "base_uri": "https://localhost:8080/"
        },
        "id": "27WLJYjJ7i46",
        "outputId": "1f8fc456-6bfa-4f88-a40f-5a7278f38df7"
      },
      "execution_count": 6,
      "outputs": [
        {
          "output_type": "execute_result",
          "data": {
            "text/plain": [
              "tensor([[ 2.0478, -0.4339,  1.0520,  2.2241],\n",
              "        [-0.3771, -0.1068,  0.8502, -0.0254],\n",
              "        [-0.3052,  1.3761, -1.1900,  0.2532]])"
            ]
          },
          "metadata": {},
          "execution_count": 6
        }
      ]
    },
    {
      "cell_type": "code",
      "source": [
        "tensor_3d = torch.zeros(2,3,4)\n",
        "tensor_3d"
      ],
      "metadata": {
        "colab": {
          "base_uri": "https://localhost:8080/"
        },
        "id": "OyI574aJ7zp0",
        "outputId": "074281b5-d313-4c62-c9f0-bc003f420da9"
      },
      "execution_count": 7,
      "outputs": [
        {
          "output_type": "execute_result",
          "data": {
            "text/plain": [
              "tensor([[[0., 0., 0., 0.],\n",
              "         [0., 0., 0., 0.],\n",
              "         [0., 0., 0., 0.]],\n",
              "\n",
              "        [[0., 0., 0., 0.],\n",
              "         [0., 0., 0., 0.],\n",
              "         [0., 0., 0., 0.]]])"
            ]
          },
          "metadata": {},
          "execution_count": 7
        }
      ]
    },
    {
      "cell_type": "code",
      "source": [
        "## Create tensor out of numpy array\n",
        "my_tensor = torch.tensor(np1)\n",
        "my_tensor\n",
        ""
      ],
      "metadata": {
        "colab": {
          "base_uri": "https://localhost:8080/"
        },
        "id": "tuV9FOQ28FX6",
        "outputId": "68d24a36-38d9-43dc-f145-a0d1a9a0ba01"
      },
      "execution_count": 10,
      "outputs": [
        {
          "output_type": "execute_result",
          "data": {
            "text/plain": [
              "tensor([[0.8488, 0.4803, 0.5781, 0.6785],\n",
              "        [0.6396, 0.5950, 0.8550, 0.4616],\n",
              "        [0.5460, 0.0259, 0.6433, 0.2948]], dtype=torch.float64)"
            ]
          },
          "metadata": {},
          "execution_count": 10
        }
      ]
    },
    {
      "cell_type": "code",
      "source": [],
      "metadata": {
        "id": "OQk3gsKw8JeE"
      },
      "execution_count": null,
      "outputs": []
    }
  ]
}